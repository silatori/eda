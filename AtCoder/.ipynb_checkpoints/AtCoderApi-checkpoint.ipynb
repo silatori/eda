{
 "cells": [
  {
   "cell_type": "code",
   "execution_count": null,
   "metadata": {},
   "outputs": [],
   "source": [
    "import urllib.request\n",
    "import pandas as pd\n",
    "import json\n",
    "\n",
    "url = 'https://atcoder.jp/users/silatori/history/json'\n",
    "req = urllib.request.Request(url)\n",
    "with urllib.request.urlopen(req) as res:\n",
    "    body = res.read()\n",
    "    \n",
    "df = pd.read_json(body)\n",
    "print(df)"
   ]
  }
 ],
 "metadata": {
  "kernelspec": {
   "display_name": "Python 3",
   "language": "python",
   "name": "python3"
  },
  "language_info": {
   "codemirror_mode": {
    "name": "ipython",
    "version": 3
   },
   "file_extension": ".py",
   "mimetype": "text/x-python",
   "name": "python",
   "nbconvert_exporter": "python",
   "pygments_lexer": "ipython3",
   "version": "3.6.8"
  }
 },
 "nbformat": 4,
 "nbformat_minor": 2
}
